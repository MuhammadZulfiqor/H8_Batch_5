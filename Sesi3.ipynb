{
  "nbformat": 4,
  "nbformat_minor": 0,
  "metadata": {
    "colab": {
      "provenance": []
    },
    "kernelspec": {
      "name": "python3",
      "display_name": "Python 3"
    },
    "language_info": {
      "name": "python"
    }
  },
  "cells": [
    {
      "cell_type": "markdown",
      "source": [
        "## Python Function"
      ],
      "metadata": {
        "id": "KCfAqH3mu4QM"
      }
    },
    {
      "cell_type": "code",
      "execution_count": null,
      "metadata": {
        "colab": {
          "base_uri": "https://localhost:8080/"
        },
        "id": "IiJ0FtE9u2np",
        "outputId": "e95c392c-4ca7-480a-9fa7-feb4f9b2da8c"
      },
      "outputs": [
        {
          "output_type": "stream",
          "name": "stdout",
          "text": [
            "50\n"
          ]
        }
      ],
      "source": [
        "def my_function(p, l):\n",
        "  \"Function untuk mengitung luas\"\n",
        "  print(p * l)\n",
        "\n",
        "my_function(5,10)"
      ]
    },
    {
      "cell_type": "code",
      "source": [
        "#function definition\n",
        "def printme( str ):\n",
        "  \"string pada function\"\n",
        "  print(str)\n",
        "  return\n",
        "# sekarang dapat memanggil function printme\n",
        "\n",
        "printme(\"Im first call to user defined function\")\n",
        "printme(\"Again second call to the same funcyion\")"
      ],
      "metadata": {
        "colab": {
          "base_uri": "https://localhost:8080/"
        },
        "id": "yg6AY3gQv7oW",
        "outputId": "b9535132-c957-465b-8689-faae70a7314d"
      },
      "execution_count": null,
      "outputs": [
        {
          "output_type": "stream",
          "name": "stdout",
          "text": [
            "Im first call to user defined function\n",
            "Again second call to the same funcyion\n"
          ]
        }
      ]
    },
    {
      "cell_type": "code",
      "source": [
        "#contoh lain\n",
        "def printmee(str):\n",
        "  print(str)\n",
        "  print(str * 4)\n",
        "  return\n",
        "\n",
        "printmee('halo halo ')"
      ],
      "metadata": {
        "colab": {
          "base_uri": "https://localhost:8080/"
        },
        "id": "9SAqrGOtP0NQ",
        "outputId": "0ab305a9-2380-4432-8d7f-53f7a8b4e772"
      },
      "execution_count": 15,
      "outputs": [
        {
          "output_type": "stream",
          "name": "stdout",
          "text": [
            "halo halo \n",
            "halo halo halo halo halo halo halo halo \n"
          ]
        }
      ]
    },
    {
      "cell_type": "code",
      "source": [
        "#contoh lain\n",
        "def halo(b, c):\n",
        "  \"function ini akan menyapa kamu\"\n",
        "  a = f'Halo {b} masyarakat {c}'\n",
        "  return a"
      ],
      "metadata": {
        "id": "55BQ5vBrOWRP"
      },
      "execution_count": 11,
      "outputs": []
    },
    {
      "cell_type": "code",
      "source": [
        "halo('putra','sedang berbahagia')"
      ],
      "metadata": {
        "colab": {
          "base_uri": "https://localhost:8080/",
          "height": 35
        },
        "id": "u0WTGaKjOT0o",
        "outputId": "8bf715d4-04f7-4b8b-bcaf-6e84de5eb9be"
      },
      "execution_count": 12,
      "outputs": [
        {
          "output_type": "execute_result",
          "data": {
            "text/plain": [
              "'Halo putra masyarakat sedang berbahagia'"
            ],
            "application/vnd.google.colaboratory.intrinsic+json": {
              "type": "string"
            }
          },
          "metadata": {},
          "execution_count": 12
        }
      ]
    },
    {
      "cell_type": "code",
      "source": [
        "#Function dapat mengalami perubahan\n",
        "def changeme( mylist ):\n",
        "  \"This changes a passed list into this function\"\n",
        "  mylist.append([1,2,3,4]);\n",
        "  print(\"Value inside the function: \",mylist)\n",
        "  return\n",
        "#now you can call changename function\n",
        "mylist = [10,20,30];\n",
        "changeme( mylist );\n",
        "print(\"Values outside the function: \",mylist)"
      ],
      "metadata": {
        "colab": {
          "base_uri": "https://localhost:8080/"
        },
        "id": "rLnKNVdqw9l-",
        "outputId": "94566ef2-2914-475e-ea05-d8f121d6f2b1"
      },
      "execution_count": null,
      "outputs": [
        {
          "output_type": "stream",
          "name": "stdout",
          "text": [
            "Value inside the function:  [10, 20, 30, [1, 2, 3, 4]]\n",
            "Values outside the function:  [10, 20, 30, [1, 2, 3, 4]]\n"
          ]
        }
      ]
    },
    {
      "cell_type": "code",
      "source": [
        "#contoh lain\n",
        "#Function dapat mengalami perubahan\n",
        "def changeme( mylist ):\n",
        "  \"This changes a passed list into this function\"\n",
        "  mylist = [1,2,3,4];\n",
        "  print(\"Value inside the function: \",mylist)\n",
        "  return\n",
        "#now you can call changename function\n",
        "mylist = [10,20,30];\n",
        "changeme( mylist );\n",
        "print(\"Values outside the function: \",mylist)"
      ],
      "metadata": {
        "colab": {
          "base_uri": "https://localhost:8080/"
        },
        "id": "DVxi6VUuyzFw",
        "outputId": "bd774d51-d4cb-40af-ddfc-d82d07713785"
      },
      "execution_count": null,
      "outputs": [
        {
          "output_type": "stream",
          "name": "stdout",
          "text": [
            "Value inside the function:  [1, 2, 3, 4]\n",
            "Values outside the function:  [10, 20, 30]\n"
          ]
        }
      ]
    },
    {
      "cell_type": "markdown",
      "source": [
        "## Function Argument"
      ],
      "metadata": {
        "id": "jELtkBrsy-NS"
      }
    },
    {
      "cell_type": "code",
      "source": [
        "#Required argument adalah argumen yang diteruskan ke suatu fungsi dalam urutan posisi yang benar\n",
        "def printme( str ):\n",
        "  \"string pada function\"\n",
        "  print(str)\n",
        "  return\n",
        "printme()#Untuk memanggil fungsi printme harus perlu memberikan satu argumen jika tidak akan eror"
      ],
      "metadata": {
        "colab": {
          "base_uri": "https://localhost:8080/",
          "height": 211
        },
        "id": "eh-tZI14zDeL",
        "outputId": "3c686d70-0293-4cb4-e089-8ad77931df70"
      },
      "execution_count": null,
      "outputs": [
        {
          "output_type": "error",
          "ename": "TypeError",
          "evalue": "ignored",
          "traceback": [
            "\u001b[0;31m---------------------------------------------------------------------------\u001b[0m",
            "\u001b[0;31mTypeError\u001b[0m                                 Traceback (most recent call last)",
            "\u001b[0;32m<ipython-input-12-41e996721fe3>\u001b[0m in \u001b[0;36m<cell line: 6>\u001b[0;34m()\u001b[0m\n\u001b[1;32m      4\u001b[0m   \u001b[0mprint\u001b[0m\u001b[0;34m(\u001b[0m\u001b[0mstr\u001b[0m\u001b[0;34m)\u001b[0m\u001b[0;34m\u001b[0m\u001b[0;34m\u001b[0m\u001b[0m\n\u001b[1;32m      5\u001b[0m   \u001b[0;32mreturn\u001b[0m\u001b[0;34m\u001b[0m\u001b[0;34m\u001b[0m\u001b[0m\n\u001b[0;32m----> 6\u001b[0;31m \u001b[0mprintme\u001b[0m\u001b[0;34m(\u001b[0m\u001b[0;34m)\u001b[0m\u001b[0;34m\u001b[0m\u001b[0;34m\u001b[0m\u001b[0m\n\u001b[0m",
            "\u001b[0;31mTypeError\u001b[0m: printme() missing 1 required positional argument: 'str'"
          ]
        }
      ]
    },
    {
      "cell_type": "code",
      "source": [
        "#Keyword argumen dapat menggunakan keyword argument dalam memanggil fungsi\n",
        "#pemanggil mengidentikasi argumdn dengan nama parameter\n",
        "def printme( str ):\n",
        "  \"string pada function\"\n",
        "  print(str)\n",
        "  return\n",
        "printme(str = \"Hello world\")"
      ],
      "metadata": {
        "colab": {
          "base_uri": "https://localhost:8080/"
        },
        "id": "hC9Xi-c0zuQQ",
        "outputId": "c876f910-65f1-40ae-e75c-705df44871cb"
      },
      "execution_count": null,
      "outputs": [
        {
          "output_type": "stream",
          "name": "stdout",
          "text": [
            "Hello world\n"
          ]
        }
      ]
    },
    {
      "cell_type": "code",
      "source": [
        "#contoh lain\n",
        "def printinfo( name, age ):\n",
        "  \"This prints a passed info into this function\"\n",
        "  print(\"Name: \", name)\n",
        "  print(\"Age: \", age)\n",
        "  return;\n",
        "\n",
        "printinfo( age= 4, name=\"andy\")"
      ],
      "metadata": {
        "colab": {
          "base_uri": "https://localhost:8080/"
        },
        "id": "gIHfFG410PGQ",
        "outputId": "2d509f5c-2c59-4d00-c544-af1a2fb6a5c5"
      },
      "execution_count": null,
      "outputs": [
        {
          "output_type": "stream",
          "name": "stdout",
          "text": [
            "Name:  andy\n",
            "Age:  4\n"
          ]
        }
      ]
    },
    {
      "cell_type": "code",
      "source": [
        "#default argument adalah argumen yang mengasumsikan nilai default jika nilai tidak di sediakan dalam pemanggilan fungsi untuk argumen tersebut\n",
        "\n",
        "def printinfo( name , age = 26):\n",
        "  print(\"Name: \", name)\n",
        "  print(\"Age: \", age)\n",
        "  return;\n",
        "printinfo( age= 50, name=\"Doni\")\n",
        "printinfo( name = \"Alex\")"
      ],
      "metadata": {
        "colab": {
          "base_uri": "https://localhost:8080/"
        },
        "id": "UXr1iwLQzOBf",
        "outputId": "2935dc04-64f6-4ee4-8489-20875b1f1d18"
      },
      "execution_count": null,
      "outputs": [
        {
          "output_type": "stream",
          "name": "stdout",
          "text": [
            "Name:  Doni\n",
            "Age:  50\n",
            "Name:  Alex\n",
            "Age:  26\n"
          ]
        }
      ]
    },
    {
      "cell_type": "code",
      "source": [],
      "metadata": {
        "id": "iNPM6fSaUBB8"
      },
      "execution_count": null,
      "outputs": []
    },
    {
      "cell_type": "markdown",
      "source": [
        "# Variable argument"
      ],
      "metadata": {
        "id": "6aDLBgEvT7HI"
      }
    },
    {
      "cell_type": "code",
      "source": [
        "def printinfo( arg1, *vartuple):\n",
        "  print(\"Output is: \")\n",
        "  print(arg1)\n",
        "  for var in vartuple:\n",
        "    print(var)\n",
        "  return;\n",
        "\n",
        "printinfo(10)\n",
        "printinfo(50,60,70,\"d\")"
      ],
      "metadata": {
        "colab": {
          "base_uri": "https://localhost:8080/"
        },
        "id": "f-ciWdYU1ksa",
        "outputId": "5493f957-b625-41b2-db5e-0dd1b0763a6b"
      },
      "execution_count": null,
      "outputs": [
        {
          "output_type": "stream",
          "name": "stdout",
          "text": [
            "Output is: \n",
            "10\n",
            "Output is: \n",
            "50\n",
            "60\n",
            "70\n",
            "d\n"
          ]
        }
      ]
    },
    {
      "cell_type": "code",
      "source": [
        "#contoh lain\n",
        "def printvar(arg1, *vartuple):\n",
        "  print(\"the touple is\")\n",
        "  print(arg1)\n",
        "  for var in vartuple:\n",
        "    print(var)\n",
        "  return;\n",
        "\n",
        "printvar(1,2,\"a\",True)"
      ],
      "metadata": {
        "colab": {
          "base_uri": "https://localhost:8080/"
        },
        "id": "7W7JtJZsU42k",
        "outputId": "be30df74-f0e2-46a6-a64d-87fa4d8c08b8"
      },
      "execution_count": 17,
      "outputs": [
        {
          "output_type": "stream",
          "name": "stdout",
          "text": [
            "the touple is\n",
            "1\n",
            "2\n",
            "a\n",
            "True\n"
          ]
        }
      ]
    },
    {
      "cell_type": "markdown",
      "source": [
        "# The Anonymous Functions"
      ],
      "metadata": {
        "id": "FCYHhrHk2OAQ"
      }
    },
    {
      "cell_type": "code",
      "source": [
        "sum = lambda arg1, arg2: arg1 + arg2;\n",
        "\n",
        "def sum(arg1, arg2):\n",
        "  return arg1 + arg2\n",
        "\n",
        "print(\"Value of total: \", sum( 10,20 ))\n",
        "print(\"Value of total: \", sum( 20,20 ))\n"
      ],
      "metadata": {
        "colab": {
          "base_uri": "https://localhost:8080/"
        },
        "id": "JpldS0SO2DmL",
        "outputId": "1d3ddc6a-10ed-4cf6-dbe2-47eecb6dc0e1"
      },
      "execution_count": null,
      "outputs": [
        {
          "output_type": "stream",
          "name": "stdout",
          "text": [
            "Value of total:  30\n",
            "Value of total:  40\n"
          ]
        }
      ]
    },
    {
      "cell_type": "code",
      "source": [
        "#contoh lain\n",
        "def jumlah(n1, n2):\n",
        "  print(f\"penjumlah dari {n1} dan {n2} adalah\")\n",
        "  return n1 + n2\n",
        "\n",
        "jumlah (3,2)\n",
        "\n",
        "n1 = 3\n",
        "n2 = 2\n",
        "\n",
        "a = lambda n1, n2: n1 + n2\n",
        "print(a(3,2))"
      ],
      "metadata": {
        "colab": {
          "base_uri": "https://localhost:8080/"
        },
        "id": "IE1jLJ1ZWVjm",
        "outputId": "c7713ef7-48c8-4ae6-8a3c-fbf22b2aeeee"
      },
      "execution_count": 22,
      "outputs": [
        {
          "output_type": "stream",
          "name": "stdout",
          "text": [
            "penjumlah dari 3 dan 2 adalah\n",
            "5\n"
          ]
        }
      ]
    },
    {
      "cell_type": "code",
      "source": [
        "#The return statement\n",
        "def sum(arg1, arg2):\n",
        "  total = arg1 + arg2\n",
        "  total2 = total + arg1\n",
        "  print(\"Inside the function : \", total)\n",
        "  return total2\n",
        "total = sum(10,20)\n",
        "print(\"Outside the function : \",total)"
      ],
      "metadata": {
        "colab": {
          "base_uri": "https://localhost:8080/"
        },
        "id": "BAPZnruV3kxp",
        "outputId": "02d06557-3861-4b26-871b-55ee9d63432f"
      },
      "execution_count": null,
      "outputs": [
        {
          "output_type": "stream",
          "name": "stdout",
          "text": [
            "Inside the function :  30\n",
            "Outside the function :  40\n"
          ]
        }
      ]
    },
    {
      "cell_type": "markdown",
      "source": [
        "# Scope of Variable\n",
        "\n",
        "\n",
        "\n"
      ],
      "metadata": {
        "id": "I6n54duM4WVt"
      }
    },
    {
      "cell_type": "code",
      "source": [
        "total = 0;\n",
        "\n",
        "def sum ( arg1, arg2 ):\n",
        "  total = arg1 + arg2;\n",
        "  print(\"Inside the function : \", total)\n",
        "  return total;\n",
        "\n",
        "def min():\n",
        "  sum( 10, 20 );\n",
        "  print(\"Outside the function : \",total)\n",
        "\n",
        "min()"
      ],
      "metadata": {
        "colab": {
          "base_uri": "https://localhost:8080/"
        },
        "id": "7j7aQ4f-4cUS",
        "outputId": "c67e34a9-26d0-457d-c7bc-b9d629df713a"
      },
      "execution_count": null,
      "outputs": [
        {
          "output_type": "stream",
          "name": "stdout",
          "text": [
            "Inside the function :  30\n",
            "Outside the function :  0\n"
          ]
        }
      ]
    },
    {
      "cell_type": "code",
      "source": [
        "totall = 0\n",
        "def jumlahh(arg1, arg2):\n",
        "\n",
        "  totall = arg1 + arg2\n",
        "  print(\"Variabel total di dalam function\", totall)\n",
        "  return totall\n",
        "\n",
        "jumlahh(10, 20)\n",
        "print(\"Variabel total di luar function\", totall)"
      ],
      "metadata": {
        "colab": {
          "base_uri": "https://localhost:8080/"
        },
        "id": "Z7zrdVfnYfRf",
        "outputId": "7f7d5f28-5999-46a7-cc75-c45b92a78c35"
      },
      "execution_count": 27,
      "outputs": [
        {
          "output_type": "stream",
          "name": "stdout",
          "text": [
            "Variabel total di dalam function 30\n",
            "Variabel total di luar function 0\n"
          ]
        }
      ]
    },
    {
      "cell_type": "code",
      "source": [
        "jumlahkucing = 20\n",
        "\n",
        "def jumlahHewan():\n",
        "  jumlahanjing = 30\n",
        "  return jumlahkucing + jumlahanjing\n",
        "\n",
        "def jumlahkelinci():\n",
        "  return jumlahkucing + jumlahkucing\n",
        "\n",
        "jumlahHewan()\n",
        "jumlahkelinci()"
      ],
      "metadata": {
        "colab": {
          "base_uri": "https://localhost:8080/"
        },
        "id": "D6-KMvPA5oKj",
        "outputId": "72b31af6-dbe5-4266-8cc2-f21920337aaa"
      },
      "execution_count": null,
      "outputs": [
        {
          "output_type": "execute_result",
          "data": {
            "text/plain": [
              "40"
            ]
          },
          "metadata": {},
          "execution_count": 31
        }
      ]
    },
    {
      "cell_type": "markdown",
      "source": [
        "### Module dan packages"
      ],
      "metadata": {
        "id": "hNW7OaOCN-eh"
      }
    },
    {
      "cell_type": "code",
      "source": [],
      "metadata": {
        "id": "maCU42xUajLj"
      },
      "execution_count": null,
      "outputs": []
    }
  ]
}